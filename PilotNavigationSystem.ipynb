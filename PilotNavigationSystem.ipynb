{
  "nbformat": 4,
  "nbformat_minor": 0,
  "metadata": {
    "colab": {
      "name": "PilotNavigationSystem.ipynb",
      "provenance": [],
      "collapsed_sections": []
    },
    "kernelspec": {
      "name": "python3",
      "display_name": "Python 3"
    },
    "language_info": {
      "name": "python"
    }
  },
  "cells": [
    {
      "cell_type": "code",
      "metadata": {
        "colab": {
          "base_uri": "https://localhost:8080/"
        },
        "id": "nEn7GPpyvER9",
        "outputId": "48d3fc9a-afb3-43d6-bfbd-e9e376118e1f"
      },
      "source": [
        "#Plane Navigation System\n",
        "\n",
        "Altitude=int(input(\"Please Enter The Altitude:\"))\n",
        "if Altitude<=3000:\n",
        "  print(\"The Plane Is Safe For Landing.\")\n",
        "elif 3000<Altitude<6000:\n",
        "  print(\"For Safe Landing Of The Plane You Need To Attain The Altitude Of 3000ft Or Lower But You Can Try To Land At This Altitude.\")\n",
        "else:\n",
        "  print(\"Danger :Out Of Altitude Range. You Cannot Land The Plane At This Altitude. Please Go Around Until You Reach To Safer Altitude Range(<=3000) \")"
      ],
      "execution_count": 11,
      "outputs": [
        {
          "output_type": "stream",
          "text": [
            "Please Enter The Altitude:2000\n",
            "The Plane Is Safe For Landing.\n"
          ],
          "name": "stdout"
        }
      ]
    }
  ]
}